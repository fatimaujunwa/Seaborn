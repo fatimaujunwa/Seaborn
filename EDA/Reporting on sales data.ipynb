{
 "cells": [
  {
   "cell_type": "code",
   "execution_count": 1,
   "id": "d4c47015",
   "metadata": {},
   "outputs": [],
   "source": [
    "import pandas as pd\n",
    "import seaborn as sns\n",
    "import numpy as np\n",
    "import matplotlib.pyplot as plt\n",
    "%matplotlib inline"
   ]
  },
  {
   "cell_type": "markdown",
   "id": "6a96f6d0",
   "metadata": {},
   "source": [
    "### Background\n",
    "This competition is designed to help you get started with DataCamp Competitions and familiarize yourself with how competitions work. You work in the accounting department of a company that sells motorcycle parts. The company operates three warehouses in a large metropolitan area. You’ve recently learned data manipulation and plotting, and are helping your colleague analyze past sales data. Your colleague wants to capture sales by payment method. She also needs to know the average unit price for each product line."
   ]
  },
  {
   "cell_type": "markdown",
   "id": "8f0473bf",
   "metadata": {},
   "source": [
    "## Your challenge\n",
    "Create a report to answer your colleague's questions. Include:\n",
    "\n",
    "What are the total sales for each payment method?\n",
    "What is the average unit price for each product line?\n",
    "Create plots to visualize findings for questions 1 and 2.\n",
    "[Optional] Investigate further (e.g., average purchase value by client type, total purchase value by product line, etc.)\n",
    "Summarize your findings."
   ]
  },
  {
   "cell_type": "markdown",
   "id": "97e98961",
   "metadata": {},
   "source": [
    "## Loading Data"
   ]
  },
  {
   "cell_type": "code",
   "execution_count": 7,
   "id": "8d110758",
   "metadata": {},
   "outputs": [
    {
     "data": {
      "text/html": [
       "<div>\n",
       "<style scoped>\n",
       "    .dataframe tbody tr th:only-of-type {\n",
       "        vertical-align: middle;\n",
       "    }\n",
       "\n",
       "    .dataframe tbody tr th {\n",
       "        vertical-align: top;\n",
       "    }\n",
       "\n",
       "    .dataframe thead th {\n",
       "        text-align: right;\n",
       "    }\n",
       "</style>\n",
       "<table border=\"1\" class=\"dataframe\">\n",
       "  <thead>\n",
       "    <tr style=\"text-align: right;\">\n",
       "      <th></th>\n",
       "      <th>date</th>\n",
       "      <th>warehouse</th>\n",
       "      <th>client_type</th>\n",
       "      <th>product_line</th>\n",
       "      <th>quantity</th>\n",
       "      <th>unit_price</th>\n",
       "      <th>total</th>\n",
       "      <th>payment</th>\n",
       "    </tr>\n",
       "  </thead>\n",
       "  <tbody>\n",
       "    <tr>\n",
       "      <th>0</th>\n",
       "      <td>2021-06-01</td>\n",
       "      <td>Central</td>\n",
       "      <td>Retail</td>\n",
       "      <td>Miscellaneous</td>\n",
       "      <td>8</td>\n",
       "      <td>16.85</td>\n",
       "      <td>134.83</td>\n",
       "      <td>Credit card</td>\n",
       "    </tr>\n",
       "    <tr>\n",
       "      <th>1</th>\n",
       "      <td>2021-06-01</td>\n",
       "      <td>North</td>\n",
       "      <td>Retail</td>\n",
       "      <td>Breaking system</td>\n",
       "      <td>9</td>\n",
       "      <td>19.29</td>\n",
       "      <td>173.61</td>\n",
       "      <td>Cash</td>\n",
       "    </tr>\n",
       "    <tr>\n",
       "      <th>2</th>\n",
       "      <td>2021-06-01</td>\n",
       "      <td>North</td>\n",
       "      <td>Retail</td>\n",
       "      <td>Suspension &amp; traction</td>\n",
       "      <td>8</td>\n",
       "      <td>32.93</td>\n",
       "      <td>263.45</td>\n",
       "      <td>Credit card</td>\n",
       "    </tr>\n",
       "    <tr>\n",
       "      <th>3</th>\n",
       "      <td>2021-06-01</td>\n",
       "      <td>North</td>\n",
       "      <td>Wholesale</td>\n",
       "      <td>Frame &amp; body</td>\n",
       "      <td>16</td>\n",
       "      <td>37.84</td>\n",
       "      <td>605.44</td>\n",
       "      <td>Transfer</td>\n",
       "    </tr>\n",
       "    <tr>\n",
       "      <th>4</th>\n",
       "      <td>2021-06-01</td>\n",
       "      <td>Central</td>\n",
       "      <td>Retail</td>\n",
       "      <td>Engine</td>\n",
       "      <td>2</td>\n",
       "      <td>60.48</td>\n",
       "      <td>120.96</td>\n",
       "      <td>Credit card</td>\n",
       "    </tr>\n",
       "    <tr>\n",
       "      <th>...</th>\n",
       "      <td>...</td>\n",
       "      <td>...</td>\n",
       "      <td>...</td>\n",
       "      <td>...</td>\n",
       "      <td>...</td>\n",
       "      <td>...</td>\n",
       "      <td>...</td>\n",
       "      <td>...</td>\n",
       "    </tr>\n",
       "    <tr>\n",
       "      <th>995</th>\n",
       "      <td>2021-08-28</td>\n",
       "      <td>Central</td>\n",
       "      <td>Retail</td>\n",
       "      <td>Electrical system</td>\n",
       "      <td>9</td>\n",
       "      <td>32.87</td>\n",
       "      <td>295.83</td>\n",
       "      <td>Credit card</td>\n",
       "    </tr>\n",
       "    <tr>\n",
       "      <th>996</th>\n",
       "      <td>2021-08-28</td>\n",
       "      <td>West</td>\n",
       "      <td>Wholesale</td>\n",
       "      <td>Breaking system</td>\n",
       "      <td>32</td>\n",
       "      <td>10.03</td>\n",
       "      <td>320.96</td>\n",
       "      <td>Transfer</td>\n",
       "    </tr>\n",
       "    <tr>\n",
       "      <th>997</th>\n",
       "      <td>2021-08-28</td>\n",
       "      <td>West</td>\n",
       "      <td>Wholesale</td>\n",
       "      <td>Electrical system</td>\n",
       "      <td>12</td>\n",
       "      <td>32.80</td>\n",
       "      <td>393.64</td>\n",
       "      <td>Transfer</td>\n",
       "    </tr>\n",
       "    <tr>\n",
       "      <th>998</th>\n",
       "      <td>2021-08-28</td>\n",
       "      <td>North</td>\n",
       "      <td>Retail</td>\n",
       "      <td>Frame &amp; body</td>\n",
       "      <td>5</td>\n",
       "      <td>48.25</td>\n",
       "      <td>241.23</td>\n",
       "      <td>Cash</td>\n",
       "    </tr>\n",
       "    <tr>\n",
       "      <th>999</th>\n",
       "      <td>2021-08-28</td>\n",
       "      <td>North</td>\n",
       "      <td>Wholesale</td>\n",
       "      <td>Electrical system</td>\n",
       "      <td>20</td>\n",
       "      <td>27.41</td>\n",
       "      <td>548.13</td>\n",
       "      <td>Transfer</td>\n",
       "    </tr>\n",
       "  </tbody>\n",
       "</table>\n",
       "<p>1000 rows × 8 columns</p>\n",
       "</div>"
      ],
      "text/plain": [
       "          date warehouse client_type           product_line  quantity  \\\n",
       "0   2021-06-01   Central      Retail          Miscellaneous         8   \n",
       "1   2021-06-01     North      Retail        Breaking system         9   \n",
       "2   2021-06-01     North      Retail  Suspension & traction         8   \n",
       "3   2021-06-01     North   Wholesale           Frame & body        16   \n",
       "4   2021-06-01   Central      Retail                 Engine         2   \n",
       "..         ...       ...         ...                    ...       ...   \n",
       "995 2021-08-28   Central      Retail      Electrical system         9   \n",
       "996 2021-08-28      West   Wholesale        Breaking system        32   \n",
       "997 2021-08-28      West   Wholesale      Electrical system        12   \n",
       "998 2021-08-28     North      Retail           Frame & body         5   \n",
       "999 2021-08-28     North   Wholesale      Electrical system        20   \n",
       "\n",
       "     unit_price   total      payment  \n",
       "0         16.85  134.83  Credit card  \n",
       "1         19.29  173.61         Cash  \n",
       "2         32.93  263.45  Credit card  \n",
       "3         37.84  605.44     Transfer  \n",
       "4         60.48  120.96  Credit card  \n",
       "..          ...     ...          ...  \n",
       "995       32.87  295.83  Credit card  \n",
       "996       10.03  320.96     Transfer  \n",
       "997       32.80  393.64     Transfer  \n",
       "998       48.25  241.23         Cash  \n",
       "999       27.41  548.13     Transfer  \n",
       "\n",
       "[1000 rows x 8 columns]"
      ]
     },
     "execution_count": 7,
     "metadata": {},
     "output_type": "execute_result"
    }
   ],
   "source": [
    "data=pd.read_csv('sales_data.csv',parse_dates=['date'])\n",
    "data"
   ]
  },
  {
   "cell_type": "markdown",
   "id": "1b641afe",
   "metadata": {},
   "source": [
    "## Data Description"
   ]
  },
  {
   "cell_type": "code",
   "execution_count": 6,
   "id": "5ede9722",
   "metadata": {},
   "outputs": [
    {
     "name": "stdout",
     "output_type": "stream",
     "text": [
      "<class 'pandas.core.frame.DataFrame'>\n",
      "RangeIndex: 1000 entries, 0 to 999\n",
      "Data columns (total 8 columns):\n",
      " #   Column        Non-Null Count  Dtype  \n",
      "---  ------        --------------  -----  \n",
      " 0   date          1000 non-null   object \n",
      " 1   warehouse     1000 non-null   object \n",
      " 2   client_type   1000 non-null   object \n",
      " 3   product_line  1000 non-null   object \n",
      " 4   quantity      1000 non-null   int64  \n",
      " 5   unit_price    1000 non-null   float64\n",
      " 6   total         1000 non-null   float64\n",
      " 7   payment       1000 non-null   object \n",
      "dtypes: float64(2), int64(1), object(5)\n",
      "memory usage: 62.6+ KB\n"
     ]
    }
   ],
   "source": [
    "data.info()"
   ]
  },
  {
   "cell_type": "markdown",
   "id": "8a45d2f0",
   "metadata": {},
   "source": [
    "## Exploratory data analysis"
   ]
  },
  {
   "cell_type": "markdown",
   "id": "015d540a",
   "metadata": {},
   "source": [
    "###### what is the average unit of price for the product line"
   ]
  },
  {
   "cell_type": "code",
   "execution_count": 23,
   "id": "25f0c3b8",
   "metadata": {},
   "outputs": [
    {
     "data": {
      "text/html": [
       "<div>\n",
       "<style scoped>\n",
       "    .dataframe tbody tr th:only-of-type {\n",
       "        vertical-align: middle;\n",
       "    }\n",
       "\n",
       "    .dataframe tbody tr th {\n",
       "        vertical-align: top;\n",
       "    }\n",
       "\n",
       "    .dataframe thead th {\n",
       "        text-align: right;\n",
       "    }\n",
       "</style>\n",
       "<table border=\"1\" class=\"dataframe\">\n",
       "  <thead>\n",
       "    <tr style=\"text-align: right;\">\n",
       "      <th></th>\n",
       "      <th>unit_price</th>\n",
       "    </tr>\n",
       "    <tr>\n",
       "      <th>product_line</th>\n",
       "      <th></th>\n",
       "    </tr>\n",
       "  </thead>\n",
       "  <tbody>\n",
       "    <tr>\n",
       "      <th>Breaking system</th>\n",
       "      <td>17.740522</td>\n",
       "    </tr>\n",
       "    <tr>\n",
       "      <th>Electrical system</th>\n",
       "      <td>25.585130</td>\n",
       "    </tr>\n",
       "    <tr>\n",
       "      <th>Engine</th>\n",
       "      <td>60.091803</td>\n",
       "    </tr>\n",
       "    <tr>\n",
       "      <th>Frame &amp; body</th>\n",
       "      <td>42.832229</td>\n",
       "    </tr>\n",
       "    <tr>\n",
       "      <th>Miscellaneous</th>\n",
       "      <td>22.810738</td>\n",
       "    </tr>\n",
       "    <tr>\n",
       "      <th>Suspension &amp; traction</th>\n",
       "      <td>33.969868</td>\n",
       "    </tr>\n",
       "  </tbody>\n",
       "</table>\n",
       "</div>"
      ],
      "text/plain": [
       "                       unit_price\n",
       "product_line                     \n",
       "Breaking system         17.740522\n",
       "Electrical system       25.585130\n",
       "Engine                  60.091803\n",
       "Frame & body            42.832229\n",
       "Miscellaneous           22.810738\n",
       "Suspension & traction   33.969868"
      ]
     },
     "execution_count": 23,
     "metadata": {},
     "output_type": "execute_result"
    }
   ],
   "source": [
    "price_productline=data.groupby('product_line')[['unit_price']].mean()\n",
    "price_productline"
   ]
  },
  {
   "cell_type": "code",
   "execution_count": 26,
   "id": "99d75766",
   "metadata": {},
   "outputs": [
    {
     "data": {
      "text/plain": [
       "<AxesSubplot:xlabel='product_line', ylabel='unit_price'>"
      ]
     },
     "execution_count": 26,
     "metadata": {},
     "output_type": "execute_result"
    },
    {
     "data": {
      "image/png": "[encoded data removed]",
      "text/plain": [
       "<Figure size 1080x720 with 1 Axes>"
      ]
     },
     "metadata": {
      "needs_background": "light"
     },
     "output_type": "display_data"
    }
   ],
   "source": [
    "plt.figure(figsize=[15,10])\n",
    "\n",
    "sns.barplot(x=price_productline.index,y=price_productline['unit_price'])"
   ]
  },
  {
   "cell_type": "markdown",
   "id": "c72cf3c0",
   "metadata": {},
   "source": [
    "##### What are the total sales for each payment method?"
   ]
  },
  {
   "cell_type": "markdown",
   "id": "263d4686",
   "metadata": {},
   "source": [
    "###### engine has the highest average unit price for all the client type and warehouses"
   ]
  },
  {
   "cell_type": "code",
   "execution_count": 28,
   "id": "7c94046d",
   "metadata": {},
   "outputs": [
    {
     "data": {
      "text/html": [
       "<div>\n",
       "<style scoped>\n",
       "    .dataframe tbody tr th:only-of-type {\n",
       "        vertical-align: middle;\n",
       "    }\n",
       "\n",
       "    .dataframe tbody tr th {\n",
       "        vertical-align: top;\n",
       "    }\n",
       "\n",
       "    .dataframe thead th {\n",
       "        text-align: right;\n",
       "    }\n",
       "</style>\n",
       "<table border=\"1\" class=\"dataframe\">\n",
       "  <thead>\n",
       "    <tr style=\"text-align: right;\">\n",
       "      <th></th>\n",
       "      <th>total</th>\n",
       "    </tr>\n",
       "    <tr>\n",
       "      <th>payment</th>\n",
       "      <th></th>\n",
       "    </tr>\n",
       "  </thead>\n",
       "  <tbody>\n",
       "    <tr>\n",
       "      <th>Cash</th>\n",
       "      <td>19199.10</td>\n",
       "    </tr>\n",
       "    <tr>\n",
       "      <th>Credit card</th>\n",
       "      <td>110271.57</td>\n",
       "    </tr>\n",
       "    <tr>\n",
       "      <th>Transfer</th>\n",
       "      <td>159642.33</td>\n",
       "    </tr>\n",
       "  </tbody>\n",
       "</table>\n",
       "</div>"
      ],
      "text/plain": [
       "                 total\n",
       "payment               \n",
       "Cash          19199.10\n",
       "Credit card  110271.57\n",
       "Transfer     159642.33"
      ]
     },
     "execution_count": 28,
     "metadata": {},
     "output_type": "execute_result"
    }
   ],
   "source": [
    "payment_total=data.groupby(data['payment'])[['total']].sum()\n",
    "payment_total"
   ]
  },
  {
   "cell_type": "markdown",
   "id": "f10c0697",
   "metadata": {},
   "source": [
    "##### the company made more sales where individuals had to pay with transfer than any other payment method"
   ]
  },
  {
   "cell_type": "code",
   "execution_count": 30,
   "id": "2691e2a4",
   "metadata": {},
   "outputs": [
    {
     "data": {
      "text/plain": [
       "<AxesSubplot:xlabel='payment', ylabel='total'>"
      ]
     },
     "execution_count": 30,
     "metadata": {},
     "output_type": "execute_result"
    },
    {
     "data": {
      "image/png": "[encoded data removed]",
      "text/plain": [
       "<Figure size 432x288 with 1 Axes>"
      ]
     },
     "metadata": {
      "needs_background": "light"
     },
     "output_type": "display_data"
    }
   ],
   "source": [
    "sns.barplot(x=payment_total.index,y=payment_total['total'])"
   ]
  },
  {
   "cell_type": "code",
   "execution_count": 52,
   "id": "fa76de3c",
   "metadata": {},
   "outputs": [
    {
     "data": {
      "text/plain": [
       "<AxesSubplot:title={'center':'total sales for the payment ,methods'}, ylabel='payment'>"
      ]
     },
     "execution_count": 52,
     "metadata": {},
     "output_type": "execute_result"
    },
    {
     "data": {
      "image/png": "[encoded data removed]",
      "text/plain": [
       "<Figure size 432x288 with 1 Axes>"
      ]
     },
     "metadata": {
      "needs_background": "light"
     },
     "output_type": "display_data"
    }
   ],
   "source": [
    "payment_total.plot(kind=\"barh\",title=('total sales for the payment ,methods'),color=\"r\",width=0.7)"
   ]
  },
  {
   "cell_type": "markdown",
   "id": "670b9060",
   "metadata": {},
   "source": [
    "##### average purchase value by client type"
   ]
  },
  {
   "cell_type": "code",
   "execution_count": 34,
   "id": "c3903981",
   "metadata": {},
   "outputs": [
    {
     "data": {
      "text/html": [
       "<div>\n",
       "<style scoped>\n",
       "    .dataframe tbody tr th:only-of-type {\n",
       "        vertical-align: middle;\n",
       "    }\n",
       "\n",
       "    .dataframe tbody tr th {\n",
       "        vertical-align: top;\n",
       "    }\n",
       "\n",
       "    .dataframe thead th {\n",
       "        text-align: right;\n",
       "    }\n",
       "</style>\n",
       "<table border=\"1\" class=\"dataframe\">\n",
       "  <thead>\n",
       "    <tr style=\"text-align: right;\">\n",
       "      <th></th>\n",
       "      <th>total</th>\n",
       "    </tr>\n",
       "    <tr>\n",
       "      <th>client_type</th>\n",
       "      <th></th>\n",
       "    </tr>\n",
       "  </thead>\n",
       "  <tbody>\n",
       "    <tr>\n",
       "      <th>Retail</th>\n",
       "      <td>167.058929</td>\n",
       "    </tr>\n",
       "    <tr>\n",
       "      <th>Wholesale</th>\n",
       "      <td>709.521467</td>\n",
       "    </tr>\n",
       "  </tbody>\n",
       "</table>\n",
       "</div>"
      ],
      "text/plain": [
       "                  total\n",
       "client_type            \n",
       "Retail       167.058929\n",
       "Wholesale    709.521467"
      ]
     },
     "execution_count": 34,
     "metadata": {},
     "output_type": "execute_result"
    }
   ],
   "source": [
    "average_by_client=data.groupby(\"client_type\")[[\"total\"]].mean()\n",
    "average_by_client"
   ]
  },
  {
   "cell_type": "code",
   "execution_count": 36,
   "id": "bbb7dfdc",
   "metadata": {},
   "outputs": [
    {
     "data": {
      "text/plain": [
       "<AxesSubplot:xlabel='client_type', ylabel='total'>"
      ]
     },
     "execution_count": 36,
     "metadata": {},
     "output_type": "execute_result"
    },
    {
     "data": {
      "image/png": "[encoded data removed]",
      "text/plain": [
       "<Figure size 432x288 with 1 Axes>"
      ]
     },
     "metadata": {
      "needs_background": "light"
     },
     "output_type": "display_data"
    }
   ],
   "source": [
    "sns.barplot(x=average_by_client.index,y=average_by_client['total'])"
   ]
  },
  {
   "cell_type": "markdown",
   "id": "c00867d8",
   "metadata": {},
   "source": [
    "##### higher average wholesale sales than retail"
   ]
  },
  {
   "cell_type": "markdown",
   "id": "8c8fa92b",
   "metadata": {},
   "source": [
    "#####  total purchase value by product line"
   ]
  },
  {
   "cell_type": "code",
   "execution_count": 39,
   "id": "b615dcbb",
   "metadata": {},
   "outputs": [
    {
     "data": {
      "text/html": [
       "<div>\n",
       "<style scoped>\n",
       "    .dataframe tbody tr th:only-of-type {\n",
       "        vertical-align: middle;\n",
       "    }\n",
       "\n",
       "    .dataframe tbody tr th {\n",
       "        vertical-align: top;\n",
       "    }\n",
       "\n",
       "    .dataframe thead th {\n",
       "        text-align: right;\n",
       "    }\n",
       "</style>\n",
       "<table border=\"1\" class=\"dataframe\">\n",
       "  <thead>\n",
       "    <tr style=\"text-align: right;\">\n",
       "      <th></th>\n",
       "      <th>total</th>\n",
       "    </tr>\n",
       "    <tr>\n",
       "      <th>product_line</th>\n",
       "      <th></th>\n",
       "    </tr>\n",
       "  </thead>\n",
       "  <tbody>\n",
       "    <tr>\n",
       "      <th>Breaking system</th>\n",
       "      <td>38350.15</td>\n",
       "    </tr>\n",
       "    <tr>\n",
       "      <th>Electrical system</th>\n",
       "      <td>43612.71</td>\n",
       "    </tr>\n",
       "    <tr>\n",
       "      <th>Engine</th>\n",
       "      <td>37945.38</td>\n",
       "    </tr>\n",
       "    <tr>\n",
       "      <th>Frame &amp; body</th>\n",
       "      <td>69024.73</td>\n",
       "    </tr>\n",
       "    <tr>\n",
       "      <th>Miscellaneous</th>\n",
       "      <td>27165.82</td>\n",
       "    </tr>\n",
       "    <tr>\n",
       "      <th>Suspension &amp; traction</th>\n",
       "      <td>73014.21</td>\n",
       "    </tr>\n",
       "  </tbody>\n",
       "</table>\n",
       "</div>"
      ],
      "text/plain": [
       "                          total\n",
       "product_line                   \n",
       "Breaking system        38350.15\n",
       "Electrical system      43612.71\n",
       "Engine                 37945.38\n",
       "Frame & body           69024.73\n",
       "Miscellaneous          27165.82\n",
       "Suspension & traction  73014.21"
      ]
     },
     "execution_count": 39,
     "metadata": {},
     "output_type": "execute_result"
    }
   ],
   "source": [
    "total_by_productline=data.groupby(\"product_line\")[[\"total\"]].sum()\n",
    "total_by_productline"
   ]
  },
  {
   "cell_type": "code",
   "execution_count": 41,
   "id": "78c4a3ef",
   "metadata": {},
   "outputs": [
    {
     "data": {
      "text/plain": [
       "<AxesSubplot:xlabel='product_line', ylabel='total'>"
      ]
     },
     "execution_count": 41,
     "metadata": {},
     "output_type": "execute_result"
    },
    {
     "data": {
      "image/png": "[encoded data removed]",
      "text/plain": [
       "<Figure size 1080x720 with 1 Axes>"
      ]
     },
     "metadata": {
      "needs_background": "light"
     },
     "output_type": "display_data"
    }
   ],
   "source": [
    "\n",
    "plt.figure(figsize=[15,10])\n",
    "\n",
    "sns.barplot(x=total_by_productline.index,y=total_by_productline['total'])"
   ]
  },
  {
   "cell_type": "markdown",
   "id": "ea29748d",
   "metadata": {},
   "source": [
    "##### suspension on traction had the highest purchase value by productline"
   ]
  },
  {
   "cell_type": "markdown",
   "id": "634f72ec",
   "metadata": {},
   "source": [
    "#### in conclusion while people purchase more of the suspension and traction line, they do so by using transfer payment the most. The company client buy more in whole sale than in retail. Additionally the most expensive productline is the engine which has an average unit price of 60"
   ]
  },
  {
   "cell_type": "code",
   "execution_count": null,
   "id": "1964c76f",
   "metadata": {},
   "outputs": [],
   "source": []
  }
 ],
 "metadata": {
  "kernelspec": {
   "display_name": "Python 3 (ipykernel)",
   "language": "python",
   "name": "python3"
  },
  "language_info": {
   "codemirror_mode": {
    "name": "ipython",
    "version": 3
   },
   "file_extension": ".py",
   "mimetype": "text/x-python",
   "name": "python",
   "nbconvert_exporter": "python",
   "pygments_lexer": "ipython3",
   "version": "3.9.12"
  }
 },
 "nbformat": 4,
 "nbformat_minor": 5
}
