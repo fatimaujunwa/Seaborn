{
 "cells": [
  {
   "cell_type": "code",
   "execution_count": 17,
   "id": "94bd1521",
   "metadata": {},
   "outputs": [],
   "source": [
    "import numpy as np\n",
    "import pandas as pd"
   ]
  },
  {
   "cell_type": "code",
   "execution_count": 35,
   "id": "06c04f77",
   "metadata": {},
   "outputs": [
    {
     "data": {
      "text/plain": [
       "(2, 2)"
      ]
     },
     "execution_count": 35,
     "metadata": {},
     "output_type": "execute_result"
    }
   ],
   "source": [
    "#create an empty array\n",
    "empty_array= np.empty([2,2], int)\n",
    "empty_array.shape\n",
    "# empty_array.size\n",
    "# empty_array"
   ]
  },
  {
   "cell_type": "code",
   "execution_count": 37,
   "id": "a5732d77",
   "metadata": {},
   "outputs": [],
   "source": [
    "a=np.array([])\n",
    "b=np.array([1,2])\n",
    "\n"
   ]
  },
  {
   "cell_type": "code",
   "execution_count": 41,
   "id": "b6f504d9",
   "metadata": {},
   "outputs": [],
   "source": [
    "#check whether the array is empty\n",
    "def check_empty(a):\n",
    "    if a.size == 0:\n",
    "        print(a, ' : Empty')\n",
    "    else:\n",
    "        print(b, ' : Non Empty')"
   ]
  },
  {
   "cell_type": "code",
   "execution_count": 43,
   "id": "83679a93",
   "metadata": {},
   "outputs": [
    {
     "name": "stdout",
     "output_type": "stream",
     "text": [
      "[1 2]  : Non Empty\n"
     ]
    }
   ],
   "source": [
    "check_empty(b)"
   ]
  },
  {
   "cell_type": "code",
   "execution_count": 45,
   "id": "d20a22ee",
   "metadata": {},
   "outputs": [],
   "source": [
    "def get_elements(c_array):\n",
    "    return c_array.ndim and c_array.size\n",
    "\n",
    "\n"
   ]
  },
  {
   "cell_type": "code",
   "execution_count": 50,
   "id": "2e2aec45",
   "metadata": {},
   "outputs": [
    {
     "name": "stdout",
     "output_type": "stream",
     "text": [
      "[] element_count:  0\n",
      "[] element_count:  2\n"
     ]
    }
   ],
   "source": [
    "\n",
    "print(a, \"element_count: \",get_elements(a))\n",
    "print(a, \"element_count: \",get_elements(b))"
   ]
  },
  {
   "cell_type": "code",
   "execution_count": 57,
   "id": "c70ecd33",
   "metadata": {},
   "outputs": [
    {
     "name": "stdout",
     "output_type": "stream",
     "text": [
      "[12 15 18 21 24 27] . shape (6,)\n",
      "reshaping.....\n",
      "reshaped [[12 15 18]\n",
      " [21 24 27]]\n"
     ]
    }
   ],
   "source": [
    "a = np.arange(12,30,3)\n",
    "d=a.reshape(2,3)\n",
    "print(a,'. shape', a.shape)\n",
    "print(\"reshaping.....\")\n",
    "print('reshaped', d)\n"
   ]
  },
  {
   "cell_type": "code",
   "execution_count": 63,
   "id": "f1464671",
   "metadata": {},
   "outputs": [
    {
     "data": {
      "text/plain": [
       "array([[1, 6, 6],\n",
       "       [7, 4, 5]])"
      ]
     },
     "execution_count": 63,
     "metadata": {},
     "output_type": "execute_result"
    }
   ],
   "source": [
    "q=np.random.randint(10,size=5)\n",
    "j=np.random.randint(9,size=(2,3))\n",
    "j"
   ]
  },
  {
   "cell_type": "code",
   "execution_count": 66,
   "id": "f322d627",
   "metadata": {},
   "outputs": [
    {
     "data": {
      "text/plain": [
       "array(['here', 'kalu', 'love'], dtype='<U4')"
      ]
     },
     "execution_count": 66,
     "metadata": {},
     "output_type": "execute_result"
    }
   ],
   "source": [
    "strings=np.array([\"here\",\"kalu\",\"love\"],dtype=str)\n",
    "strings"
   ]
  },
  {
   "cell_type": "code",
   "execution_count": null,
   "id": "19f51e70",
   "metadata": {},
   "outputs": [],
   "source": []
  }
 ],
 "metadata": {
  "kernelspec": {
   "display_name": "Python 3 (ipykernel)",
   "language": "python",
   "name": "python3"
  },
  "language_info": {
   "codemirror_mode": {
    "name": "ipython",
    "version": 3
   },
   "file_extension": ".py",
   "mimetype": "text/x-python",
   "name": "python",
   "nbconvert_exporter": "python",
   "pygments_lexer": "ipython3",
   "version": "3.9.12"
  }
 },
 "nbformat": 4,
 "nbformat_minor": 5
}
